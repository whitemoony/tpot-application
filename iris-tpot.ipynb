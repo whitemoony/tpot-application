{
 "cells": [
  {
   "cell_type": "code",
   "execution_count": 4,
   "metadata": {},
   "outputs": [
    {
     "data": {
      "text/plain": [
       "(array([[5.1, 3.5, 1.4, 0.2],\n",
       "        [4.9, 3. , 1.4, 0.2],\n",
       "        [4.7, 3.2, 1.3, 0.2],\n",
       "        [4.6, 3.1, 1.5, 0.2],\n",
       "        [5. , 3.6, 1.4, 0.2]]),\n",
       " array([0, 0, 0, 0, 0, 0, 0, 0, 0, 0, 0, 0, 0, 0, 0, 0, 0, 0, 0, 0, 0, 0,\n",
       "        0, 0, 0, 0, 0, 0, 0, 0, 0, 0, 0, 0, 0, 0, 0, 0, 0, 0, 0, 0, 0, 0,\n",
       "        0, 0, 0, 0, 0, 0, 1, 1, 1, 1, 1, 1, 1, 1, 1, 1, 1, 1, 1, 1, 1, 1,\n",
       "        1, 1, 1, 1, 1, 1, 1, 1, 1, 1, 1, 1, 1, 1, 1, 1, 1, 1, 1, 1, 1, 1,\n",
       "        1, 1, 1, 1, 1, 1, 1, 1, 1, 1, 1, 1, 2, 2, 2, 2, 2, 2, 2, 2, 2, 2,\n",
       "        2, 2, 2, 2, 2, 2, 2, 2, 2, 2, 2, 2, 2, 2, 2, 2, 2, 2, 2, 2, 2, 2,\n",
       "        2, 2, 2, 2, 2, 2, 2, 2, 2, 2, 2, 2, 2, 2, 2, 2, 2, 2]))"
      ]
     },
     "execution_count": 4,
     "metadata": {},
     "output_type": "execute_result"
    }
   ],
   "source": [
    "from tpot import TPOTClassifier\n",
    "from sklearn.datasets import load_iris\n",
    "from sklearn.model_selection import train_test_split\n",
    "\n",
    "iris = load_iris()\n",
    "\n",
    "iris.data[0:5], iris.target"
   ]
  },
  {
   "cell_type": "markdown",
   "metadata": {},
   "source": [
    "Split the data set in train and test"
   ]
  },
  {
   "cell_type": "code",
   "execution_count": 5,
   "metadata": {},
   "outputs": [
    {
     "data": {
      "text/plain": [
       "((112, 4), (38, 4), (112,), (38,))"
      ]
     },
     "execution_count": 5,
     "metadata": {},
     "output_type": "execute_result"
    }
   ],
   "source": [
    "X_train, X_test, y_train, y_test = train_test_split(iris.data, iris.target,\n",
    "                                                    train_size=.75, test_size=.25)\n",
    "X_train.shape, X_test.shape, y_train.shape, y_test.shape"
   ]
  },
  {
   "cell_type": "code",
   "execution_count": 7,
   "metadata": {},
   "outputs": [
    {
     "name": "stdout",
     "output_type": "stream",
     "text": [
      "                                                                              \n",
      "Generation 1 - Current best internal CV score: 0.9818181818181818\n",
      "                                                                              \n",
      "Generation 2 - Current best internal CV score: 0.9818181818181818\n",
      "                                                                              \n",
      "Generation 3 - Current best internal CV score: 0.9818181818181818\n",
      "                                                                              \n",
      "Generation 4 - Current best internal CV score: 0.9818181818181818\n",
      "                                                                              \n",
      "Generation 5 - Current best internal CV score: 0.9818181818181818\n",
      "                                                                              \n",
      "Generation 6 - Current best internal CV score: 0.9818181818181818\n",
      "                                                                              \n",
      "Generation 7 - Current best internal CV score: 0.9818181818181818\n",
      "                                                                              \n",
      "Generation 8 - Current best internal CV score: 0.9818181818181818\n",
      "                                                                               \n",
      "Generation 9 - Current best internal CV score: 0.9818181818181818\n",
      "                                                                                \n",
      "Generation 10 - Current best internal CV score: 0.9818181818181818\n",
      "                                                                                \n",
      "Generation 11 - Current best internal CV score: 0.9818181818181818\n",
      "                                                                                \n",
      "Generation 12 - Current best internal CV score: 0.9818181818181818\n",
      "                                                                                \n",
      "Generation 13 - Current best internal CV score: 0.9818181818181818\n",
      "                                                                                \n",
      "Generation 14 - Current best internal CV score: 0.9818181818181818\n",
      "                                                                                \n",
      "Generation 15 - Current best internal CV score: 0.9818181818181818\n",
      "                                                                                \n",
      "Generation 16 - Current best internal CV score: 0.9818181818181818\n",
      "                                                                                \n",
      "Generation 17 - Current best internal CV score: 0.9818181818181818\n",
      "                                                                                \n",
      "Generation 18 - Current best internal CV score: 0.9818181818181818\n",
      "                                                                                \n",
      "Generation 19 - Current best internal CV score: 0.9818181818181818\n",
      "                                                                                \n",
      "Generation 20 - Current best internal CV score: 0.9818181818181818\n",
      "                                                                                \n",
      "Generation 21 - Current best internal CV score: 0.9818181818181818\n",
      "                                                                                \n",
      "Generation 22 - Current best internal CV score: 0.9818181818181818\n",
      "                                                                                \n",
      "Generation 23 - Current best internal CV score: 0.9818181818181818\n",
      "                                                                                \n",
      "Generation 24 - Current best internal CV score: 0.9818181818181818\n",
      "                                                                                \n",
      "Generation 25 - Current best internal CV score: 0.9818181818181818\n",
      "                                                                                \n",
      "Generation 26 - Current best internal CV score: 0.9818181818181818\n",
      "                                                                                \n",
      "Generation 27 - Current best internal CV score: 0.9818181818181818\n",
      "                                                                                \n",
      "Generation 28 - Current best internal CV score: 0.9818181818181818\n",
      "                                                                                \n",
      "Generation 29 - Current best internal CV score: 0.9818181818181818\n",
      "                                                                                \n",
      "Generation 30 - Current best internal CV score: 0.9818181818181818\n",
      "                                                                                \n",
      "Generation 31 - Current best internal CV score: 0.9818181818181818\n",
      "                                                                                \n",
      "Generation 32 - Current best internal CV score: 0.9818181818181818\n",
      "                                                                                \n",
      "Generation 33 - Current best internal CV score: 0.9818181818181818\n",
      "                                                                                \n",
      "Generation 34 - Current best internal CV score: 0.9818181818181818\n",
      "                                                                                \n",
      "Generation 35 - Current best internal CV score: 0.9818181818181818\n",
      "                                                                                \n",
      "Generation 36 - Current best internal CV score: 0.9818181818181818\n",
      "                                                                                \n",
      "Generation 37 - Current best internal CV score: 0.9818181818181818\n",
      "                                                                                \n",
      "Generation 38 - Current best internal CV score: 0.9818181818181818\n",
      "                                                                                \n",
      "Generation 39 - Current best internal CV score: 0.9818181818181818\n",
      "                                                                                \n",
      "Generation 40 - Current best internal CV score: 0.9818181818181818\n",
      "                                                                                \n",
      "Generation 41 - Current best internal CV score: 0.9818181818181818\n",
      "                                                                                \n",
      "Generation 42 - Current best internal CV score: 0.9818181818181818\n",
      "                                                                                \n",
      "Generation 43 - Current best internal CV score: 0.9818181818181818\n",
      "                                                                                \n",
      "Generation 44 - Current best internal CV score: 0.9818181818181818\n",
      "                                                                                \n",
      "Generation 45 - Current best internal CV score: 0.9818181818181818\n",
      "                                                                                \n",
      "Generation 46 - Current best internal CV score: 0.9818181818181818\n",
      "                                                                                \n",
      "Generation 47 - Current best internal CV score: 0.9818181818181818\n",
      "                                                                                \n",
      "Generation 48 - Current best internal CV score: 0.9818181818181818\n",
      "                                                                                \n",
      "Generation 49 - Current best internal CV score: 0.9818181818181818\n",
      "                                                                                \n",
      "Generation 50 - Current best internal CV score: 0.9818181818181818\n",
      "                                                                                \n",
      "Generation 51 - Current best internal CV score: 0.9818181818181818\n",
      "                                                                                \n",
      "Generation 52 - Current best internal CV score: 0.9818181818181818\n",
      "                                                                                \n",
      "Generation 53 - Current best internal CV score: 0.9818181818181818\n",
      "                                                                                \n",
      "Generation 54 - Current best internal CV score: 0.9818181818181818\n",
      "                                                                                \n",
      "Generation 55 - Current best internal CV score: 0.9818181818181818\n",
      "                                                                                \n",
      "Generation 56 - Current best internal CV score: 0.9818181818181818\n",
      "                                                                                \n",
      "Generation 57 - Current best internal CV score: 0.9818181818181818\n",
      "                                                                                \n",
      "Generation 58 - Current best internal CV score: 0.9818181818181818\n",
      "                                                                                \n",
      "Generation 59 - Current best internal CV score: 0.9818181818181818\n",
      "                                                                                \n",
      "Generation 60 - Current best internal CV score: 0.9818181818181818\n",
      "                                                                                \n",
      "Generation 61 - Current best internal CV score: 0.9818181818181818\n",
      "                                                                                \n",
      "Generation 62 - Current best internal CV score: 0.9818181818181818\n",
      "                                                                                \n",
      "Generation 63 - Current best internal CV score: 0.9818181818181818\n",
      "                                                                                \n",
      "Generation 64 - Current best internal CV score: 0.9818181818181818\n",
      "                                                                                \n",
      "Generation 65 - Current best internal CV score: 0.9818181818181818\n",
      "                                                                                \n",
      "Generation 66 - Current best internal CV score: 0.9818181818181818\n",
      "                                                                                \n",
      "Generation 67 - Current best internal CV score: 0.9818181818181818\n",
      "                                                                                \n",
      "20.00 minutes have elapsed. TPOT will close down.                               \n",
      "TPOT closed during evaluation in one generation.\n",
      "WARNING: TPOT may not provide a good pipeline if TPOT is stopped/interrupted in a early generation.\n",
      "                                                                                \n",
      "                                                                                \n",
      "TPOT closed prematurely. Will use the current best pipeline.\n",
      "                                                                                \n",
      "Best pipeline: MLPClassifier(input_matrix, alpha=0.0001, learning_rate_init=0.001)\n",
      "0.9736842105263158\n"
     ]
    }
   ],
   "source": [
    "from tpot import TPOTClassifier\n",
    "tpot = TPOTClassifier(verbosity = 2, max_time_mins =20 )\n",
    "tpot.fit(X_train, y_train)\n",
    "print(tpot.score(X_test, y_test))"
   ]
  }
 ],
 "metadata": {
  "kernelspec": {
   "display_name": "test_tpot",
   "language": "python",
   "name": "python3"
  },
  "language_info": {
   "codemirror_mode": {
    "name": "ipython",
    "version": 3
   },
   "file_extension": ".py",
   "mimetype": "text/x-python",
   "name": "python",
   "nbconvert_exporter": "python",
   "pygments_lexer": "ipython3",
   "version": "3.11.10"
  }
 },
 "nbformat": 4,
 "nbformat_minor": 2
}
